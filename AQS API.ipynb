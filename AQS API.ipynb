{
 "cells": [
  {
   "cell_type": "markdown",
   "metadata": {},
   "source": [
    "# Air Quality Index Analysis\n",
    "\n",
    "\n",
    "\n",
    "### Links\n",
    "[AQI Calculation](https://forum.airnowtech.org/t/the-aqi-equation/169)<br>\n",
    "[Calculating the Average](https://forum.airnowtech.org/t/daily-and-hourly-aqi-ozone/170)<br>\n",
    "[Online AQI Calculator](https://airnow.gov/index.cfm?action=airnow.calculator)<br>\n",
    "\n",
    "### Pollutants Used\n",
    "Ozone (44201)<br>\n",
    "PM2.5 (88101)<br>\n",
    "PM10 (81102)<br>\n",
    "CO (42101)<br>\n",
    "SO2 (42401)<br>\n",
    "NO2 (42602)<br>\n",
    "\n",
    "\n",
    "### Average Calculation Parameters\n",
    "__Average Requirements__<br>\n",
    " Ozone = 8-hour <br>\n",
    " PM2.5 = 24-hour <br>\n",
    " PM10 = 24-hour <br>\n",
    " CO = 8-hour <br>\n",
    " SO2 = 1-hour <br>\n",
    " NO2 = 1-hour <br>\n",
    " \n",
    "__Decimal truncation__<br>\n",
    " Ozone = 3 places<br>\n",
    " PM2.5 = 1 place<br>\n",
    " PM10 = Integer<br>\n",
    " CO = 1 place<br>\n",
    " SO2 = integer<br>\n",
    " NO2 = integer"
   ]
  },
  {
   "cell_type": "code",
   "execution_count": 66,
   "metadata": {
    "collapsed": true
   },
   "outputs": [],
   "source": [
    "# Import libraries\n",
    "import pandas as pd\n",
    "import io\n",
    "import requests\n",
    "import bisect\n",
    "import numpy as np"
   ]
  },
  {
   "cell_type": "code",
   "execution_count": 67,
   "metadata": {
    "collapsed": false
   },
   "outputs": [],
   "source": [
    "# Import Config file defaults\n",
    "from src import config\n",
    "\n",
    "# Define Start and End Dates\n",
    "config.bDate = '20170101'\n",
    "config.eDate = '20170102'\n",
    "\n",
    "# Define AQI Lower and Upper Bound Lookup Tables\n",
    "\n",
    "#Ozone\n",
    "ozone_breaks_lower = {(0.000, 0.054): 0, (0.055, 0.070): 51, (0.071, 0.085): 101, (0.086, 0.105): 151, (0.106, 0.200): 201, (0.405, 0.504): 301, (0.505, 0.604): 401}\n",
    "ozone_breaks_upper = {(0.000, 0.054): 50, (0.055, 0.070): 100, (0.071, 0.085): 150, (0.086, 0.105): 200, (0.106, 0.200): 300, (0.405, 0.504): 400, (0.505, 0.604): 500}\n",
    "\n",
    "#PM2.5\n",
    "\n",
    "\n",
    "#PM10\n",
    "\n",
    "\n",
    "#C02\n",
    "\n",
    "\n",
    "#SO2\n",
    "\n",
    "\n",
    "#NO2\n",
    "\n",
    "\n"
   ]
  },
  {
   "cell_type": "code",
   "execution_count": 68,
   "metadata": {
    "collapsed": false
   },
   "outputs": [],
   "source": [
    "# Function to return lower and upper AQI ranges\n",
    "def get_range(table, measurement):\n",
    "    for key in table:\n",
    "        if key[0] < measurement < key[1]:\n",
    "            return table[key]"
   ]
  },
  {
   "cell_type": "code",
   "execution_count": 69,
   "metadata": {
    "collapsed": false
   },
   "outputs": [],
   "source": [
    "# Running the query for an entire state exceeds API size limits so we need to query by county\n",
    "# For the defined stateName, loop through counties and execute API call for each county\n",
    "df = pd.DataFrame()\n",
    "\n",
    "from src import county\n",
    "\n",
    "for key in county.counties[config.stateName]:\n",
    "    config.countyCode = county.counties[config.stateName][key]\n",
    "    \n",
    "    #Build API request URL\n",
    "    requestURL = config.apiURL + 'user=' + config.apiUser + '&pw=' + config.apiPassword + '&format=' + config.outputFormat \\\n",
    "    + '&pc=' + config.aqsClass + '&bdate=' + config.bDate + '&edate=' + config.eDate + '&state=' + config.stateCode \\\n",
    "    + '&county=' + config.countyCode\n",
    "\n",
    "    #print(requestURL)\n",
    "    apiResp = requests.get(requestURL)\n",
    "\n",
    "    #TODO: Add error handling if request does not return a 200 code\n",
    "\n",
    "    aqs_df = pd.read_csv(io.StringIO(apiResp.content.decode('utf-8')))\n",
    "    df = pd.concat([df,aqs_df])\n",
    "               "
   ]
  },
  {
   "cell_type": "code",
   "execution_count": 70,
   "metadata": {
    "collapsed": false
   },
   "outputs": [],
   "source": [
    "#Cleanup data frame\n",
    "\n",
    "#Remove 'END OF FILE' entries\n",
    "df = df[df['Latitude'] != 'END OF FILE']\n",
    "\n",
    "#Remove all but 1-hour observations\n",
    "df = df[df['Sample Duration'] == '1 HOUR']\n",
    "\n",
    "#Sorting\n",
    "df = df.sort_values(['County Code', 'Site Num', 'AQS Parameter Desc', 'Date Local', '24 Hour Local'])"
   ]
  },
  {
   "cell_type": "code",
   "execution_count": 72,
   "metadata": {
    "collapsed": false
   },
   "outputs": [],
   "source": [
    "# Create a working Dataframe based on County, Site, and AQS Parameter Desc\n",
    "# TODO: This needs to be dynamic to build for each county, site, and paramter\n",
    "df_ = df.loc[(df['County Code'] == 3) & (df['Site Num'] == 3) & (df['AQS Parameter Desc'] == 'Ozone')]"
   ]
  },
  {
   "cell_type": "code",
   "execution_count": 96,
   "metadata": {
    "collapsed": false
   },
   "outputs": [],
   "source": [
    "#Reverse the order of the data frame so Pandas rolling can use the \"look back\" window\n",
    "#Use Pandas rolling to calculate 8 hour average\n",
    "df_ = df_[::-1]\n",
    "df_['8 Hour Avg'] = df_['Sample Measurement'].rolling(8, min_periods=8).mean()\n",
    "df_['8 Hour Avg'] = df_['8 Hour Avg'].round(3)\n",
    "df_ = df_[pd.notnull(df_['8 Hour Avg'])]"
   ]
  },
  {
   "cell_type": "code",
   "execution_count": 99,
   "metadata": {
    "collapsed": false
   },
   "outputs": [
    {
     "name": "stdout",
     "output_type": "stream",
     "text": [
      "(0.01, 0, 50, 0.0, 0.054, 9)\n",
      "(0.013, 0, 50, 0.0, 0.054, 12)\n",
      "(0.015, 0, 50, 0.0, 0.054, 13)\n",
      "(0.018, 0, 50, 0.0, 0.054, 16)\n",
      "(0.02, 0, 50, 0.0, 0.054, 18)\n",
      "(0.021, 0, 50, 0.0, 0.054, 19)\n",
      "(0.023, 0, 50, 0.0, 0.054, 21)\n",
      "(0.025, 0, 50, 0.0, 0.054, 23)\n",
      "(0.025, 0, 50, 0.0, 0.054, 23)\n",
      "(0.025, 0, 50, 0.0, 0.054, 23)\n",
      "(0.023, 0, 50, 0.0, 0.054, 21)\n",
      "(0.02, 0, 50, 0.0, 0.054, 18)\n",
      "(0.019, 0, 50, 0.0, 0.054, 17)\n",
      "(0.018, 0, 50, 0.0, 0.054, 16)\n",
      "(0.019, 0, 50, 0.0, 0.054, 17)\n",
      "(0.019, 0, 50, 0.0, 0.054, 17)\n",
      "(0.019, 0, 50, 0.0, 0.054, 17)\n",
      "(0.02, 0, 50, 0.0, 0.054, 18)\n",
      "(0.022, 0, 50, 0.0, 0.054, 20)\n",
      "(0.024, 0, 50, 0.0, 0.054, 22)\n",
      "(0.025, 0, 50, 0.0, 0.054, 23)\n",
      "(0.026, 0, 50, 0.0, 0.054, 24)\n",
      "(0.025, 0, 50, 0.0, 0.054, 23)\n",
      "(0.025, 0, 50, 0.0, 0.054, 23)\n",
      "(0.025, 0, 50, 0.0, 0.054, 23)\n",
      "(0.025, 0, 50, 0.0, 0.054, 23)\n",
      "(0.026, 0, 50, 0.0, 0.054, 24)\n",
      "(0.026, 0, 50, 0.0, 0.054, 24)\n",
      "(0.026, 0, 50, 0.0, 0.054, 24)\n",
      "(0.026, 0, 50, 0.0, 0.054, 24)\n",
      "(0.026, 0, 50, 0.0, 0.054, 24)\n",
      "(0.026, 0, 50, 0.0, 0.054, 24)\n",
      "(0.026, 0, 50, 0.0, 0.054, 24)\n",
      "(0.025, 0, 50, 0.0, 0.054, 23)\n",
      "(0.025, 0, 50, 0.0, 0.054, 23)\n",
      "(0.024, 0, 50, 0.0, 0.054, 22)\n",
      "(0.023, 0, 50, 0.0, 0.054, 21)\n",
      "(0.021, 0, 50, 0.0, 0.054, 19)\n",
      "(0.021, 0, 50, 0.0, 0.054, 19)\n",
      "(0.019, 0, 50, 0.0, 0.054, 17)\n",
      "(0.017, 0, 50, 0.0, 0.054, 15)\n"
     ]
    }
   ],
   "source": [
    "# Calculate AQI for each measurment observation\n",
    "for i, row in df_.iterrows():\n",
    "   aqiAvg = row[\"8 Hour Avg\"]\n",
    "   \n",
    "   if np.isnan(aqiAvg) == False:\n",
    "       aqiLow = get_range(ozone_breaks_lower, aqiAvg)\n",
    "       aqiHigh = get_range(ozone_breaks_upper, aqiAvg)\n",
    "   \n",
    "       breakRange = [key for key in ozone_breaks_lower.items() if key[1] == value][0][0]\n",
    "   \n",
    "       breakRangeLow = breakRange[0]\n",
    "       breakRangeHigh = breakRange[1]\n",
    "   \n",
    "       rowAqi = (aqiHigh - aqiLow)/(breakRangeHigh - breakRangeLow)*(aqiAvg - breakRangeLow) + aqiLow\n",
    "       rowAqi = int(rowAqi)\n",
    "       \n",
    "       df_.set_value(i,'AQI',rowAqi)    \n",
    "       \n",
    "       print (aqiAvg, aqiLow, aqiHigh, breakRangeLow, breakRangeHigh, rowAqi)\n",
    "\n"
   ]
  },
  {
   "cell_type": "code",
   "execution_count": 102,
   "metadata": {
    "collapsed": false
   },
   "outputs": [],
   "source": [
    "# Create a combined dataframe which concats each of the processing dataframes (df_) for each loop through county/site/pollutant\n",
    "dfCombined = pd.DataFrame()\n",
    "dfCombined = pd.concat([dfCombined,df_])"
   ]
  },
  {
   "cell_type": "code",
   "execution_count": 103,
   "metadata": {
    "collapsed": true
   },
   "outputs": [],
   "source": [
    "#Output for debugging/validation\n",
    "df_.to_csv('AQI_Calc_Out.csv', sep=',')"
   ]
  },
  {
   "cell_type": "code",
   "execution_count": null,
   "metadata": {
    "collapsed": true
   },
   "outputs": [],
   "source": [
    "#TODO: Create a daily summary Dataframe - AQI is defined as the single highest pollutant per day; we can also look at\n",
    "#the highest measurement rate for each pollutant rather than a rolled up AQI measure. Although we may be able to \n",
    "#handle this in mapD"
   ]
  }
 ],
 "metadata": {
  "kernelspec": {
   "display_name": "Python 2",
   "language": "python",
   "name": "python2"
  },
  "language_info": {
   "codemirror_mode": {
    "name": "ipython",
    "version": 2
   },
   "file_extension": ".py",
   "mimetype": "text/x-python",
   "name": "python",
   "nbconvert_exporter": "python",
   "pygments_lexer": "ipython2",
   "version": "2.7.12"
  }
 },
 "nbformat": 4,
 "nbformat_minor": 2
}
