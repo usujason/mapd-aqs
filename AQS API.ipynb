{
 "cells": [
  {
   "cell_type": "markdown",
   "metadata": {},
   "source": [
    "# Air Quality Index Analysis\n",
    "\n",
    "\n",
    "\n",
    "### Links\n",
    "[AQI Calculation](https://forum.airnowtech.org/t/the-aqi-equation/169)<br>\n",
    "[Calculating the Average](https://forum.airnowtech.org/t/daily-and-hourly-aqi-ozone/170)<br>\n",
    "[Online AQI Calculator](https://airnow.gov/index.cfm?action=airnow.calculator)<br>\n",
    "\n",
    "### Pollutants Used\n",
    "Ozone (44201)<br>\n",
    "PM2.5 (88101)<br>\n",
    "PM10 (81102)<br>\n",
    "CO (42101)<br>\n",
    "SO2 (42401)<br>\n",
    "NO2 (42602)<br>\n",
    "\n",
    "\n",
    "### Average Calculation Parameters\n",
    "__Average Requirements__<br>\n",
    " Ozone = 8-hour <br>\n",
    " PM2.5 = 24-hour <br>\n",
    " PM10 = 24-hour <br>\n",
    " CO = 8-hour <br>\n",
    " SO2 = 1-hour <br>\n",
    " NO2 = 1-hour <br>\n",
    " \n",
    "__Decimal truncation__<br>\n",
    " Ozone = 3 places<br>\n",
    " PM2.5 = 1 place<br>\n",
    " PM10 = Integer<br>\n",
    " CO = 1 place<br>\n",
    " SO2 = integer<br>\n",
    " NO2 = integer"
   ]
  },
  {
   "cell_type": "code",
   "execution_count": 1,
   "metadata": {
    "collapsed": true
   },
   "outputs": [],
   "source": [
    "# Import libraries\n",
    "import pandas as pd\n",
    "import io\n",
    "import requests\n",
    "import bisect\n",
    "import numpy as np\n",
    "import time"
   ]
  },
  {
   "cell_type": "code",
   "execution_count": 2,
   "metadata": {
    "collapsed": false
   },
   "outputs": [],
   "source": [
    "# Import Config file defaults\n",
    "from src import config\n",
    "\n",
    "# Define Start and End Dates\n",
    "config.bDate = '20170101'\n",
    "config.eDate = '20170131'\n",
    "\n",
    "# Define AQI Lower and Upper Bound Lookup Tables\n",
    "\n",
    "#Ozone\n",
    "ozone_breaks_lower = {(0.000, 0.054): 0, (0.055, 0.070): 51, (0.071, 0.085): 101, (0.086, 0.105): 151, (0.106, 0.200): 201, (0.405, 0.504): 301, (0.505, 0.604): 401}\n",
    "ozone_breaks_upper = {(0.000, 0.054): 50, (0.055, 0.070): 100, (0.071, 0.085): 150, (0.086, 0.105): 200, (0.106, 0.200): 300, (0.405, 0.504): 400, (0.505, 0.604): 500}\n",
    "\n",
    "#PM2.5\n",
    "pm25_breaks_lower = {(0.0, 12.0): 0, (12.1, 35.4): 51, (35.5, 55.4): 101, (55.5, 150.4): 151, (150.5, 250.4): 201, (250.5, 350.4): 301, (350.5, 500.4): 401}\n",
    "pm25_breaks_upper = {(0.0, 12.0): 50, (12.1, 35.4): 100, (35.5, 55.4): 150, (55.5, 150.4): 200, (150.5, 250.4): 300, (250.5, 350.4): 400, (350.5, 500.4): 500}\n",
    "\n",
    "\n",
    "#PM10\n",
    "pm10_breaks_lower = {(0.0, 54): 0, (55, 154): 51, (155, 254): 101, (255, 354): 151, (355, 424): 201, (425, 504): 301, (505, 604): 401}\n",
    "pm10_breaks_upper = {(0.0, 54): 50, (55, 154): 100, (155, 254): 150, (255, 354): 200, (355, 424): 300, (425, 504): 400, (505, 604): 500}\n",
    "\n",
    "\n",
    "#C0\n",
    "co_breaks_lower = {(0.0, 4.4): 0, (4.5, 9.4): 51, (9.5, 12.4): 101, (12.5, 15.4): 151, (15.5, 30.4): 201, (30.5, 40.4): 301, (40.5, 50.4): 401}\n",
    "co_breaks_upper = {(0.0, 4.4): 50, (4.5, 9.4): 100, (9.5, 12.4): 150, (12.5, 15.4): 200, (15.5, 30.4): 300, (30.5, 40.4): 400, (40.5, 50.4): 500}\n",
    "\n",
    "\n",
    "#SO2\n",
    "so2_breaks_lower = {(0.0, 35): 0, (36, 75): 51, (76, 185): 101, (186, 304): 151, (305, 604): 201, (605, 804): 301, (805, 1004): 401}\n",
    "so2_breaks_upper = {(0.0, 35): 50, (36, 75): 100, (76, 185): 150, (186, 304): 200, (305, 604): 300, (605, 804): 400, (805, 1004): 500}\n",
    "\n",
    "\n",
    "#NO2\n",
    "no2_breaks_lower = {(0.0, 53): 0, (54, 100): 51, (101, 360): 101, (361, 649): 151, (650, 1249): 201, (1250, 1649): 301, (1650, 2049): 401}\n",
    "no2_breaks_upper = {(0.0, 53): 50, (54, 100): 100, (101, 360): 150, (361, 649): 200, (650, 1249): 300, (1250, 1649): 400, (1650, 2049): 500}\n",
    "\n",
    "\n"
   ]
  },
  {
   "cell_type": "code",
   "execution_count": 3,
   "metadata": {
    "collapsed": false
   },
   "outputs": [],
   "source": [
    "# Function to return lower and upper AQI ranges\n",
    "def get_range(table, measurement):\n",
    "    for key in table:\n",
    "        if key[0] <= measurement <= key[1]:\n",
    "            return table[key]"
   ]
  },
  {
   "cell_type": "code",
   "execution_count": 4,
   "metadata": {
    "collapsed": false
   },
   "outputs": [
    {
     "name": "stdout",
     "output_type": "stream",
     "text": [
      "('Process Time: ', 100.94872903823853)\n"
     ]
    }
   ],
   "source": [
    "start = time.time()\n",
    "# Running the query for an entire state exceeds API size limits so we need to query by county\n",
    "# For the defined stateName, loop through counties and execute API call for each county\n",
    "df = pd.DataFrame()\n",
    "\n",
    "from src import county\n",
    "\n",
    "for key in county.counties[config.stateName]:\n",
    "    config.countyCode = county.counties[config.stateName][key]\n",
    "    \n",
    "    #Build API request URL\n",
    "    requestURL = config.apiURL + 'user=' + config.apiUser + '&pw=' + config.apiPassword + '&format=' + config.outputFormat \\\n",
    "    + '&pc=' + config.aqsClass + '&bdate=' + config.bDate + '&edate=' + config.eDate + '&state=' + config.stateCode \\\n",
    "    + '&county=' + config.countyCode\n",
    "\n",
    "    #print(requestURL)\n",
    "    apiResp = requests.get(requestURL)\n",
    "\n",
    "\n",
    "    #TODO: Add error handling if request does not return a 200 code\n",
    "\n",
    "    aqs_df = pd.read_csv(io.StringIO(apiResp.content.decode('utf-8')))\n",
    "    df = pd.concat([df,aqs_df])\n",
    "    \n",
    "end = time.time()\n",
    "print(\"Process Time: \", end - start)                   "
   ]
  },
  {
   "cell_type": "code",
   "execution_count": 5,
   "metadata": {
    "collapsed": false
   },
   "outputs": [],
   "source": [
    "#Cleanup data frame\n",
    "\n",
    "#Remove 'END OF FILE' entries\n",
    "df = df[df['Latitude'] != 'END OF FILE']\n",
    "\n",
    "#Remove all but 1-hour observations\n",
    "df = df[df['Sample Duration'] == '1 HOUR']\n",
    "\n",
    "#Force codes to int\n",
    "df['County Code'] = df['County Code'].astype(int)\n",
    "df['Site Num'] = df['Site Num'].astype(int)\n",
    "\n",
    "#Sorting\n",
    "df = df.sort_values(['County Code', 'Site Num', 'Parameter Code', 'Date Local', '24 Hour Local'])"
   ]
  },
  {
   "cell_type": "code",
   "execution_count": 6,
   "metadata": {
    "collapsed": true
   },
   "outputs": [],
   "source": [
    "#AQI Calculation Function\n",
    "def calc_aqi(df,county,site,param_code,param_rnd,avg_unit,breaks_lower,breaks_upper):\n",
    "    df_activePollutant = df.loc[(df['County Code'] == activeCounties[i]) & (df['Site Num'] == activeSites[j]) & (df['Parameter Code'] == param_code)]\n",
    "    \n",
    "    #Reverse the order of the data frame so Pandas rolling can use the \"look back\" window\n",
    "    #Use Pandas rolling to calculate 8 hour average\n",
    "    df_activePollutant = df_activePollutant[::-1]\n",
    "    df_activePollutant['Rolling Avg'] = df_activePollutant['Sample Measurement'].rolling(avg_unit, min_periods=avg_unit).mean()\n",
    "    df_activePollutant['Rolling Avg'] = df_activePollutant['Rolling Avg'].round(param_rnd)\n",
    "    \n",
    "    df_activePollutant = df_activePollutant[pd.notnull(df_activePollutant['Rolling Avg'])]\n",
    "    \n",
    "    # Calculate AQI for each measurment observation in the current processing data frame\n",
    "    for k, row in df_activePollutant.iterrows():\n",
    "        aqiAvg = row[\"Rolling Avg\"]\n",
    "        \n",
    "        if np.isnan(aqiAvg) == False:\n",
    "            aqiLow = get_range(breaks_lower, aqiAvg)\n",
    "            aqiHigh = get_range(breaks_upper, aqiAvg)\n",
    "            \n",
    "            if aqiLow is not None:\n",
    "                breakRange = [key for key in breaks_lower.items() if key[1] == aqiLow][0][0]\n",
    "   \n",
    "                breakRangeLow = breakRange[0]\n",
    "                breakRangeHigh = breakRange[1]\n",
    "   \n",
    "                rowAqi = (aqiHigh - aqiLow)/(breakRangeHigh - breakRangeLow)*(aqiAvg - breakRangeLow) + aqiLow\n",
    "                rowAqi = int(rowAqi)\n",
    "       \n",
    "                df_activePollutant.set_value(k,'AQI',rowAqi)   \n",
    "                \n",
    "                #print(aqiAvg, aqiLow, rowAqi) \n",
    "                  \n",
    "    return df_activePollutant"
   ]
  },
  {
   "cell_type": "code",
   "execution_count": 7,
   "metadata": {
    "collapsed": false
   },
   "outputs": [
    {
     "name": "stdout",
     "output_type": "stream",
     "text": [
      "('Records Processed: ', 38820)\n",
      "('Process Time: ', 11.607539176940918)\n"
     ]
    }
   ],
   "source": [
    "start = time.time()\n",
    "# Loop through County -> Site -> Parameter Code\n",
    "\n",
    "# Create a combined dataframe which concats each of the processing dataframes (df_activePollutant) for each loop through county/site/pollutant\n",
    "dfCombined = pd.DataFrame()\n",
    "\n",
    "# Get a list of County Codes based on current dataset\n",
    "activeCounties = df['County Code'].unique()\n",
    "    \n",
    "# Loop through each unique county code, create a processing df, process AQI calculations    \n",
    "i = 0\n",
    "while i < len(activeCounties):\n",
    "    #print(\"Processing Active County\", activeCounties[i])\n",
    "    \n",
    "    \n",
    "    # Return a data frame for the active county being processed\n",
    "    df_activeCounty = df.loc[(df['County Code'] == activeCounties[i])]\n",
    "    \n",
    "    # From the active county, get an array of sites to process\n",
    "    activeSites = df_activeCounty['Site Num'].unique()\n",
    "    \n",
    "    # Loop through each site, within the active county\n",
    "    j = 0\n",
    "    \n",
    "    while j < len(activeSites):\n",
    "        #print(\"Processing Active Site\", activeSites[j])\n",
    "        \n",
    "        # Call calc_aqi for each pollutant\n",
    "        # PARAMS: \n",
    "        # primary data frame (df)\n",
    "        # active processing county\n",
    "        # active processing site\n",
    "        # Pollutant Code\n",
    "        # Number of decimal places for pollutant code\n",
    "        # Number of hours needed for rolling average\n",
    "        # Pollutant lower breakpoint dictionary\n",
    "        # Pollutant uppder breakpoint dictionary\n",
    "        \n",
    "        #Ozone 44201\n",
    "        #print(\"NOW PROCESSING OZONE\")\n",
    "        df_activePollutant = calc_aqi(df,activeCounties[i],activeSites[j],44201,3,8,ozone_breaks_lower,ozone_breaks_upper)\n",
    "        dfCombined = pd.concat([dfCombined,df_activePollutant]) \n",
    "        \n",
    "        #print(\"NOW PROCESSING PM2.5\")\n",
    "        #PM2.5 88101\n",
    "        df_activePollutant = calc_aqi(df,activeCounties[i],activeSites[j],88101,1,24,pm25_breaks_lower,pm25_breaks_upper)\n",
    "        dfCombined = pd.concat([dfCombined,df_activePollutant])  \n",
    "        \n",
    "        #print(\"NOW PROCESSING PM10\")\n",
    "        #PM10 81102\n",
    "        df_activePollutant = calc_aqi(df,activeCounties[i],activeSites[j],81102,1,24,pm10_breaks_lower,pm10_breaks_upper)\n",
    "        dfCombined = pd.concat([dfCombined,df_activePollutant])    \n",
    "        \n",
    "        #print(\"NOW PROCESSING CO\")\n",
    "        #CO 42101\n",
    "        df_activePollutant = calc_aqi(df,activeCounties[i],activeSites[j],42101,1,8,co_breaks_lower,co_breaks_upper)\n",
    "        dfCombined = pd.concat([dfCombined,df_activePollutant])  \n",
    "        \n",
    "        #print(\"NOW PROCESSING SO2\")\n",
    "        #SO2 42401\n",
    "        df_activePollutant = calc_aqi(df,activeCounties[i],activeSites[j],42401,1,1,so2_breaks_lower,so2_breaks_upper)\n",
    "        dfCombined = pd.concat([dfCombined,df_activePollutant]) \n",
    "        \n",
    "        #print(\"NOW PROCESSING NO2\")\n",
    "        #NO2 42602\n",
    "        df_activePollutant = calc_aqi(df,activeCounties[i],activeSites[j],42602,1,1,so2_breaks_lower,so2_breaks_upper)\n",
    "        dfCombined = pd.concat([dfCombined,df_activePollutant])          \n",
    "        \n",
    "        j += 1\n",
    "    \n",
    "    \n",
    "    \n",
    "    #print(\"\\n\")\n",
    "    i += 1\n",
    "    \n",
    "dfCombined.to_csv('processed.csv', sep=',') \n",
    "end = time.time()\n",
    "print(\"Records Processed: \", dfCombined.shape[0])\n",
    "print(\"Process Time: \", end - start)   "
   ]
  },
  {
   "cell_type": "code",
   "execution_count": 8,
   "metadata": {
    "collapsed": false
   },
   "outputs": [],
   "source": [
    "# Create a daily summary\n",
    "dfDaily = dfCombined.groupby(['County Code', 'Site Num', 'Latitude','Longitude', 'AQS Parameter Desc', 'Date Local'], sort=False)['AQI'].max().reset_index()\n",
    "\n",
    "aqi_desc = {(0, 50): \"Good\", (51, 100): \"Moderate\", (101, 150): \"Unhealthy for Sensitive Groups\", (151, 200): \"Unhealthy\", (201, 300): \"Very Unhealthy\", (301, 500): \"Hazardous\"}\n",
    "aqi_color = {(0, 50): \"Green\", (51, 100): \"Yellow\", (101, 150): \"Orange\", (151, 200): \"Red\", (201, 300): \"Purple\", (301, 500): \"Maroon\"}\n",
    "\n",
    "for l, row in dfDaily.iterrows():\n",
    "    aqi = row[\"AQI\"]\n",
    "    aqiDesc = get_range(aqi_desc, aqi)\n",
    "    aqiColor = get_range(aqi_color, aqi)    \n",
    "    dfDaily.set_value(l,'AQI Description',aqiDesc)   \n",
    "    dfDaily.set_value(l,'AQI Color',aqiColor)  \n",
    "\n",
    "\n",
    "dfDaily.to_csv('daily.csv', sep=',') \n"
   ]
  },
  {
   "cell_type": "code",
   "execution_count": null,
   "metadata": {
    "collapsed": true
   },
   "outputs": [],
   "source": []
  }
 ],
 "metadata": {
  "kernelspec": {
   "display_name": "Python 2",
   "language": "python",
   "name": "python2"
  },
  "language_info": {
   "codemirror_mode": {
    "name": "ipython",
    "version": 2
   },
   "file_extension": ".py",
   "mimetype": "text/x-python",
   "name": "python",
   "nbconvert_exporter": "python",
   "pygments_lexer": "ipython2",
   "version": "2.7.12"
  }
 },
 "nbformat": 4,
 "nbformat_minor": 2
}
